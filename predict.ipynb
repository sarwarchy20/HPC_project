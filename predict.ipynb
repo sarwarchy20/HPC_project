{
 "cells": [
  {
   "cell_type": "code",
   "execution_count": 1,
   "id": "59f654f8-6688-4e68-98eb-953d4e6873b1",
   "metadata": {},
   "outputs": [],
   "source": [
    "import torch\n",
    "import os\n",
    "from transformers import AutoTokenizer, AutoModelForSequenceClassification"
   ]
  },
  {
   "cell_type": "code",
   "execution_count": 2,
   "id": "f3a83120-c69a-43da-b555-36b8bfa36833",
   "metadata": {},
   "outputs": [
    {
     "data": {
      "text/plain": [
       "'/Users/sarwar/Documents/protein_class'"
      ]
     },
     "execution_count": 2,
     "metadata": {},
     "output_type": "execute_result"
    }
   ],
   "source": [
    "path = \"/Users/sarwar/Documents/protein_class\"\n",
    "os.chdir(path)\n",
    "\n",
    "os.getcwd()"
   ]
  },
  {
   "cell_type": "code",
   "execution_count": 3,
   "id": "f1368864-bc2f-47a7-9590-e11391fb15f8",
   "metadata": {},
   "outputs": [],
   "source": [
    "# Load saved model checkpoint and tokenizer\n",
    "checkpoint_dir = './results_8M_c20_tmp/training_results/checkpoint-8725'  # Adjust path if necessary\n",
    "\n",
    "model = AutoModelForSequenceClassification.from_pretrained(checkpoint_dir)\n",
    "\n",
    "tokenizer = AutoTokenizer.from_pretrained(\"facebook/esm2_t12_35M_UR50D\", do_lower_case=False, model_max_length=238)\n",
    "\n",
    "# Example user sequence\n",
    "user_sequence = \"LTDGLSNLVLGKKTIDASLLEELEMILLSADIGIEATQSILNNLSQQVARKSLSDPKALIDALKIEL\"\n",
    "\n",
    "# Tokenize the sequence\n",
    "encoded_sequence = tokenizer(\n",
    "    user_sequence,\n",
    "    truncation=True,\n",
    "    padding='max_length',\n",
    "    return_tensors=\"pt\"\n",
    ")"
   ]
  },
  {
   "cell_type": "code",
   "execution_count": 4,
   "id": "b66c144a-6622-48c6-8862-1a9881a2561f",
   "metadata": {},
   "outputs": [],
   "source": [
    "# Check if CUDA (GPU) is available\n",
    "#if torch.cuda.is_available():\n",
    "#    print(f\"GPU is available: {torch.cuda.get_device_name(0)}\")\n",
    "#    print(f\"Device Count: {torch.cuda.device_count()}\")\n",
    "#else:\n",
    "#    print(\"GPU is not available. Using CPU.\")"
   ]
  },
  {
   "cell_type": "code",
   "execution_count": 5,
   "id": "90273e1c-bd6f-4c52-9049-750afc433548",
   "metadata": {},
   "outputs": [],
   "source": [
    "# Move data to device (GPU if available)\n",
    "#device = torch.device(\"cuda\" if torch.cuda.is_available() else \"cpu\")\n",
    "#model.to(device)"
   ]
  },
  {
   "cell_type": "code",
   "execution_count": 6,
   "id": "9ac39c2c-0242-437d-bf18-fe7c8f62de5a",
   "metadata": {},
   "outputs": [
    {
     "name": "stdout",
     "output_type": "stream",
     "text": [
      "Using Apple GPU (MPS backend).\n"
     ]
    },
    {
     "data": {
      "text/plain": [
       "EsmForSequenceClassification(\n",
       "  (esm): EsmModel(\n",
       "    (embeddings): EsmEmbeddings(\n",
       "      (word_embeddings): Embedding(33, 320, padding_idx=1)\n",
       "      (dropout): Dropout(p=0.0, inplace=False)\n",
       "      (position_embeddings): Embedding(1026, 320, padding_idx=1)\n",
       "    )\n",
       "    (encoder): EsmEncoder(\n",
       "      (layer): ModuleList(\n",
       "        (0-5): 6 x EsmLayer(\n",
       "          (attention): EsmAttention(\n",
       "            (self): EsmSelfAttention(\n",
       "              (query): Linear(in_features=320, out_features=320, bias=True)\n",
       "              (key): Linear(in_features=320, out_features=320, bias=True)\n",
       "              (value): Linear(in_features=320, out_features=320, bias=True)\n",
       "              (dropout): Dropout(p=0.0, inplace=False)\n",
       "              (rotary_embeddings): RotaryEmbedding()\n",
       "            )\n",
       "            (output): EsmSelfOutput(\n",
       "              (dense): Linear(in_features=320, out_features=320, bias=True)\n",
       "              (dropout): Dropout(p=0.0, inplace=False)\n",
       "            )\n",
       "            (LayerNorm): LayerNorm((320,), eps=1e-05, elementwise_affine=True)\n",
       "          )\n",
       "          (intermediate): EsmIntermediate(\n",
       "            (dense): Linear(in_features=320, out_features=1280, bias=True)\n",
       "          )\n",
       "          (output): EsmOutput(\n",
       "            (dense): Linear(in_features=1280, out_features=320, bias=True)\n",
       "            (dropout): Dropout(p=0.0, inplace=False)\n",
       "          )\n",
       "          (LayerNorm): LayerNorm((320,), eps=1e-05, elementwise_affine=True)\n",
       "        )\n",
       "      )\n",
       "      (emb_layer_norm_after): LayerNorm((320,), eps=1e-05, elementwise_affine=True)\n",
       "    )\n",
       "    (contact_head): EsmContactPredictionHead(\n",
       "      (regression): Linear(in_features=120, out_features=1, bias=True)\n",
       "      (activation): Sigmoid()\n",
       "    )\n",
       "  )\n",
       "  (classifier): EsmClassificationHead(\n",
       "    (dense): Linear(in_features=320, out_features=320, bias=True)\n",
       "    (dropout): Dropout(p=0.0, inplace=False)\n",
       "    (out_proj): Linear(in_features=320, out_features=20, bias=True)\n",
       "  )\n",
       ")"
      ]
     },
     "execution_count": 6,
     "metadata": {},
     "output_type": "execute_result"
    }
   ],
   "source": [
    "# Check for MPS (Metal Performance Shaders) availability\n",
    "if torch.backends.mps.is_available():\n",
    "    device = torch.device(\"mps\")  # Use MPS for GPU\n",
    "    print(\"Using Apple GPU (MPS backend).\")\n",
    "else:\n",
    "    device = torch.device(\"cpu\")  # Fallback to CPU\n",
    "    print(\"Using CPU.\")\n",
    "    \n",
    "model.to(device)"
   ]
  },
  {
   "cell_type": "code",
   "execution_count": 7,
   "id": "73e9a299-08c6-497a-8ce0-7be20c3137df",
   "metadata": {},
   "outputs": [],
   "source": [
    "encoded_sequence = {key: val.to(device) for key, val in encoded_sequence.items()}"
   ]
  },
  {
   "cell_type": "code",
   "execution_count": 8,
   "id": "f14f0617-4ad8-43d3-85a4-3e2de65e8cb9",
   "metadata": {},
   "outputs": [
    {
     "data": {
      "text/plain": [
       "{'input_ids': tensor([[ 0,  4, 11, 13,  6,  4,  8, 17,  4,  7,  4,  6, 15, 15, 11, 12, 13,  5,\n",
       "           8,  4,  4,  9,  9,  4,  9, 20, 12,  4,  4,  8,  5, 13, 12,  6, 12,  9,\n",
       "           5, 11, 16,  8, 12,  4, 17, 17,  4,  8, 16, 16,  7,  5, 10, 15,  8,  4,\n",
       "           8, 13, 14, 15,  5,  4, 12, 13,  5,  4, 15, 12,  9,  4,  2,  1,  1,  1,\n",
       "           1,  1,  1,  1,  1,  1,  1,  1,  1,  1,  1,  1,  1,  1,  1,  1,  1,  1,\n",
       "           1,  1,  1,  1,  1,  1,  1,  1,  1,  1,  1,  1,  1,  1,  1,  1,  1,  1,\n",
       "           1,  1,  1,  1,  1,  1,  1,  1,  1,  1,  1,  1,  1,  1,  1,  1,  1,  1,\n",
       "           1,  1,  1,  1,  1,  1,  1,  1,  1,  1,  1,  1,  1,  1,  1,  1,  1,  1,\n",
       "           1,  1,  1,  1,  1,  1,  1,  1,  1,  1,  1,  1,  1,  1,  1,  1,  1,  1,\n",
       "           1,  1,  1,  1,  1,  1,  1,  1,  1,  1,  1,  1,  1,  1,  1,  1,  1,  1,\n",
       "           1,  1,  1,  1,  1,  1,  1,  1,  1,  1,  1,  1,  1,  1,  1,  1,  1,  1,\n",
       "           1,  1,  1,  1,  1,  1,  1,  1,  1,  1,  1,  1,  1,  1,  1,  1,  1,  1,\n",
       "           1,  1,  1,  1,  1,  1,  1,  1,  1,  1,  1,  1,  1,  1,  1,  1,  1,  1,\n",
       "           1,  1,  1,  1]], device='mps:0'),\n",
       " 'attention_mask': tensor([[1, 1, 1, 1, 1, 1, 1, 1, 1, 1, 1, 1, 1, 1, 1, 1, 1, 1, 1, 1, 1, 1, 1, 1,\n",
       "          1, 1, 1, 1, 1, 1, 1, 1, 1, 1, 1, 1, 1, 1, 1, 1, 1, 1, 1, 1, 1, 1, 1, 1,\n",
       "          1, 1, 1, 1, 1, 1, 1, 1, 1, 1, 1, 1, 1, 1, 1, 1, 1, 1, 1, 1, 1, 0, 0, 0,\n",
       "          0, 0, 0, 0, 0, 0, 0, 0, 0, 0, 0, 0, 0, 0, 0, 0, 0, 0, 0, 0, 0, 0, 0, 0,\n",
       "          0, 0, 0, 0, 0, 0, 0, 0, 0, 0, 0, 0, 0, 0, 0, 0, 0, 0, 0, 0, 0, 0, 0, 0,\n",
       "          0, 0, 0, 0, 0, 0, 0, 0, 0, 0, 0, 0, 0, 0, 0, 0, 0, 0, 0, 0, 0, 0, 0, 0,\n",
       "          0, 0, 0, 0, 0, 0, 0, 0, 0, 0, 0, 0, 0, 0, 0, 0, 0, 0, 0, 0, 0, 0, 0, 0,\n",
       "          0, 0, 0, 0, 0, 0, 0, 0, 0, 0, 0, 0, 0, 0, 0, 0, 0, 0, 0, 0, 0, 0, 0, 0,\n",
       "          0, 0, 0, 0, 0, 0, 0, 0, 0, 0, 0, 0, 0, 0, 0, 0, 0, 0, 0, 0, 0, 0, 0, 0,\n",
       "          0, 0, 0, 0, 0, 0, 0, 0, 0, 0, 0, 0, 0, 0, 0, 0, 0, 0, 0, 0, 0, 0]],\n",
       "        device='mps:0')}"
      ]
     },
     "execution_count": 8,
     "metadata": {},
     "output_type": "execute_result"
    }
   ],
   "source": [
    "encoded_sequence"
   ]
  },
  {
   "cell_type": "code",
   "execution_count": 9,
   "id": "61736bdb-719a-41af-ba58-fec259016955",
   "metadata": {},
   "outputs": [],
   "source": [
    "# Make predictions\n",
    "model.eval()  # Set model to evaluation mode\n",
    "with torch.no_grad():\n",
    "    outputs = model(**encoded_sequence)\n",
    "    logits = outputs.logits"
   ]
  },
  {
   "cell_type": "code",
   "execution_count": 10,
   "id": "c45ea1fe-2cbc-485d-b417-cd0110ff757b",
   "metadata": {},
   "outputs": [
    {
     "data": {
      "text/plain": [
       "17"
      ]
     },
     "execution_count": 10,
     "metadata": {},
     "output_type": "execute_result"
    }
   ],
   "source": [
    "# Extract the predicted class index\n",
    "predicted_class_idx = torch.argmax(logits, dim=1).item()\n",
    "predicted_class_idx"
   ]
  },
  {
   "cell_type": "code",
   "execution_count": 11,
   "id": "348f4e72-2046-483d-b688-ea5cb15b2523",
   "metadata": {},
   "outputs": [],
   "source": [
    "# Decode the class index to original label\n",
    "from sklearn.preprocessing import LabelEncoder\n",
    "import joblib\n",
    "\n",
    "# Load the saved LabelEncoder\n",
    "le = joblib.load(\"label_encoder_class20.pkl\")\n",
    "\n",
    "predicted_class_label = le.inverse_transform([predicted_class_idx])[0]"
   ]
  },
  {
   "cell_type": "code",
   "execution_count": 12,
   "id": "3d77dd19-d34a-441c-8020-5b0d0906e11a",
   "metadata": {},
   "outputs": [],
   "source": [
    "#print(\"All labels:\", le.classes_)"
   ]
  },
  {
   "cell_type": "code",
   "execution_count": 13,
   "id": "5efc366d-2865-4ef3-ab10-b88b46fd056a",
   "metadata": {},
   "outputs": [
    {
     "name": "stdout",
     "output_type": "stream",
     "text": [
      "Predicted class for the input sequence: SRP54_N\n"
     ]
    }
   ],
   "source": [
    "# Print the result\n",
    "print(f\"Predicted class for the input sequence: {predicted_class_label}\")\n"
   ]
  }
 ],
 "metadata": {
  "kernelspec": {
   "display_name": "Python 3 (ipykernel)",
   "language": "python",
   "name": "python3"
  },
  "language_info": {
   "codemirror_mode": {
    "name": "ipython",
    "version": 3
   },
   "file_extension": ".py",
   "mimetype": "text/x-python",
   "name": "python",
   "nbconvert_exporter": "python",
   "pygments_lexer": "ipython3",
   "version": "3.12.7"
  }
 },
 "nbformat": 4,
 "nbformat_minor": 5
}
